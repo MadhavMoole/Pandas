{
 "cells": [
  {
   "cell_type": "markdown",
   "id": "566cbcd6",
   "metadata": {
    "papermill": {
     "duration": 0.00689,
     "end_time": "2023-03-29T09:11:02.127467",
     "exception": false,
     "start_time": "2023-03-29T09:11:02.120577",
     "status": "completed"
    },
    "tags": []
   },
   "source": [
    "**This notebook is an exercise in the [Pandas](https://www.kaggle.com/learn/pandas) course.  You can reference the tutorial at [this link](https://www.kaggle.com/residentmario/creating-reading-and-writing).**\n",
    "\n",
    "---\n"
   ]
  },
  {
   "cell_type": "markdown",
   "id": "9cb803e0",
   "metadata": {
    "papermill": {
     "duration": 0.00545,
     "end_time": "2023-03-29T09:11:02.138648",
     "exception": false,
     "start_time": "2023-03-29T09:11:02.133198",
     "status": "completed"
    },
    "tags": []
   },
   "source": [
    "# Introduction\n",
    "\n",
    "The first step in most data analytics projects is reading the data file. In this exercise, you'll create Series and DataFrame objects, both by hand and by reading data files.\n",
    "\n",
    "Run the code cell below to load libraries you will need (including code to check your answers)."
   ]
  },
  {
   "cell_type": "code",
   "execution_count": 1,
   "id": "28105f9d",
   "metadata": {
    "execution": {
     "iopub.execute_input": "2023-03-29T09:11:02.152478Z",
     "iopub.status.busy": "2023-03-29T09:11:02.151639Z",
     "iopub.status.idle": "2023-03-29T09:11:03.835727Z",
     "shell.execute_reply": "2023-03-29T09:11:03.834078Z"
    },
    "papermill": {
     "duration": 1.694239,
     "end_time": "2023-03-29T09:11:03.838721",
     "exception": false,
     "start_time": "2023-03-29T09:11:02.144482",
     "status": "completed"
    },
    "tags": []
   },
   "outputs": [
    {
     "name": "stdout",
     "output_type": "stream",
     "text": [
      "Setup complete.\n"
     ]
    }
   ],
   "source": [
    "import pandas as pd\n",
    "pd.set_option('max_rows', 5)\n",
    "from learntools.core import binder; binder.bind(globals())\n",
    "from learntools.pandas.creating_reading_and_writing import *\n",
    "print(\"Setup complete.\")"
   ]
  },
  {
   "cell_type": "markdown",
   "id": "bdf63c13",
   "metadata": {
    "papermill": {
     "duration": 0.005182,
     "end_time": "2023-03-29T09:11:03.849418",
     "exception": false,
     "start_time": "2023-03-29T09:11:03.844236",
     "status": "completed"
    },
    "tags": []
   },
   "source": [
    "# Exercises"
   ]
  },
  {
   "cell_type": "markdown",
   "id": "247fdc7a",
   "metadata": {
    "papermill": {
     "duration": 0.005023,
     "end_time": "2023-03-29T09:11:03.859799",
     "exception": false,
     "start_time": "2023-03-29T09:11:03.854776",
     "status": "completed"
    },
    "tags": []
   },
   "source": [
    "## 1.\n",
    "\n",
    "In the cell below, create a DataFrame `fruits` that looks like this:\n",
    "\n",
    "![](https://i.imgur.com/Ax3pp2A.png)"
   ]
  },
  {
   "cell_type": "code",
   "execution_count": 2,
   "id": "648f75ac",
   "metadata": {
    "execution": {
     "iopub.execute_input": "2023-03-29T09:11:03.873152Z",
     "iopub.status.busy": "2023-03-29T09:11:03.871951Z",
     "iopub.status.idle": "2023-03-29T09:11:03.885893Z",
     "shell.execute_reply": "2023-03-29T09:11:03.884212Z"
    },
    "papermill": {
     "duration": 0.023702,
     "end_time": "2023-03-29T09:11:03.888820",
     "exception": false,
     "start_time": "2023-03-29T09:11:03.865118",
     "status": "completed"
    },
    "tags": []
   },
   "outputs": [
    {
     "name": "stdout",
     "output_type": "stream",
     "text": [
      "   Apple  Bananas\n",
      "0     30       21\n"
     ]
    }
   ],
   "source": [
    "import pandas as pd\n",
    "fruits = pd.DataFrame({'Apple' : [30] , 'Bananas' : [21]})\n",
    "print(fruits)"
   ]
  },
  {
   "cell_type": "code",
   "execution_count": 3,
   "id": "55001fb5",
   "metadata": {
    "execution": {
     "iopub.execute_input": "2023-03-29T09:11:03.902457Z",
     "iopub.status.busy": "2023-03-29T09:11:03.901280Z",
     "iopub.status.idle": "2023-03-29T09:11:03.910964Z",
     "shell.execute_reply": "2023-03-29T09:11:03.909567Z"
    },
    "papermill": {
     "duration": 0.019609,
     "end_time": "2023-03-29T09:11:03.914077",
     "exception": false,
     "start_time": "2023-03-29T09:11:03.894468",
     "status": "completed"
    },
    "tags": []
   },
   "outputs": [
    {
     "name": "stdout",
     "output_type": "stream",
     "text": [
      "   Apple  Bananas\n",
      "0     30       21\n"
     ]
    }
   ],
   "source": [
    "import pandas as pd\n",
    "fruits = pd.DataFrame({'Apple' : [30], 'Bananas' : [21]})\n",
    "print(fruits)"
   ]
  },
  {
   "cell_type": "markdown",
   "id": "af5fe922",
   "metadata": {
    "papermill": {
     "duration": 0.005479,
     "end_time": "2023-03-29T09:11:03.925860",
     "exception": false,
     "start_time": "2023-03-29T09:11:03.920381",
     "status": "completed"
    },
    "tags": []
   },
   "source": [
    "## 2.\n",
    "\n",
    "Create a dataframe `fruit_sales` that matches the diagram below:\n",
    "\n",
    "![](https://i.imgur.com/CHPn7ZF.png)"
   ]
  },
  {
   "cell_type": "code",
   "execution_count": 4,
   "id": "baf4f67d",
   "metadata": {
    "execution": {
     "iopub.execute_input": "2023-03-29T09:11:03.939796Z",
     "iopub.status.busy": "2023-03-29T09:11:03.938658Z",
     "iopub.status.idle": "2023-03-29T09:11:03.948400Z",
     "shell.execute_reply": "2023-03-29T09:11:03.946926Z"
    },
    "papermill": {
     "duration": 0.019101,
     "end_time": "2023-03-29T09:11:03.950739",
     "exception": false,
     "start_time": "2023-03-29T09:11:03.931638",
     "status": "completed"
    },
    "tags": []
   },
   "outputs": [
    {
     "name": "stdout",
     "output_type": "stream",
     "text": [
      "            Apples  Bananas\n",
      "2017 Sales      35       21\n",
      "2018 sales      41       34\n"
     ]
    }
   ],
   "source": [
    "# Your code goes here. Create a dataframe matching the above diagram and assign it to the variable fruit_sales.\n",
    "import pandas as pd\n",
    "fruit_sales = pd.DataFrame({'Apples' : [35, 41], 'Bananas' : [21,34]}, index =['2017 Sales', '2018 sales'])\n",
    "\n",
    "# Check your answer\n",
    "print(fruit_sales)"
   ]
  },
  {
   "cell_type": "code",
   "execution_count": 5,
   "id": "980d3349",
   "metadata": {
    "execution": {
     "iopub.execute_input": "2023-03-29T09:11:03.964044Z",
     "iopub.status.busy": "2023-03-29T09:11:03.963345Z",
     "iopub.status.idle": "2023-03-29T09:11:03.973115Z",
     "shell.execute_reply": "2023-03-29T09:11:03.971420Z"
    },
    "papermill": {
     "duration": 0.019914,
     "end_time": "2023-03-29T09:11:03.976175",
     "exception": false,
     "start_time": "2023-03-29T09:11:03.956261",
     "status": "completed"
    },
    "tags": []
   },
   "outputs": [
    {
     "name": "stdout",
     "output_type": "stream",
     "text": [
      "            Apples  Bananas\n",
      "2017 Sales      35       21\n",
      "2018 sales      41       34\n"
     ]
    }
   ],
   "source": [
    "# Your code goes here. Create a dataframe matching the above diagram and assign it to the variable fruit_sales.\n",
    "import pandas as pd\n",
    "fruit_sales = pd.DataFrame({'Apples' : [35, 41], 'Bananas' : [21,34]}, index =['2017 Sales', '2018 sales'])\n",
    "\n",
    "# Check your answer\n",
    "print(fruit_sales)"
   ]
  },
  {
   "cell_type": "markdown",
   "id": "79d4a9d8",
   "metadata": {
    "papermill": {
     "duration": 0.005405,
     "end_time": "2023-03-29T09:11:03.988897",
     "exception": false,
     "start_time": "2023-03-29T09:11:03.983492",
     "status": "completed"
    },
    "tags": []
   },
   "source": [
    "## 3.\n",
    "\n",
    "Create a variable `ingredients` with a Series that looks like:\n",
    "\n",
    "```\n",
    "Flour     4 cups\n",
    "Milk       1 cup\n",
    "Eggs     2 large\n",
    "Spam       1 can\n",
    "Name: Dinner, dtype: object\n",
    "```"
   ]
  },
  {
   "cell_type": "code",
   "execution_count": 6,
   "id": "32f71a22",
   "metadata": {
    "execution": {
     "iopub.execute_input": "2023-03-29T09:11:04.002798Z",
     "iopub.status.busy": "2023-03-29T09:11:04.001981Z",
     "iopub.status.idle": "2023-03-29T09:11:04.011167Z",
     "shell.execute_reply": "2023-03-29T09:11:04.009394Z"
    },
    "papermill": {
     "duration": 0.019846,
     "end_time": "2023-03-29T09:11:04.014463",
     "exception": false,
     "start_time": "2023-03-29T09:11:03.994617",
     "status": "completed"
    },
    "tags": []
   },
   "outputs": [
    {
     "name": "stdout",
     "output_type": "stream",
     "text": [
      "Flour     4 cups\n",
      "Milk       1 cup\n",
      "Eggs     2 large\n",
      "Spam       1 can\n",
      "Name: Dinner, dtype: object\n"
     ]
    }
   ],
   "source": [
    "import pandas as pd\n",
    "ingredients = pd.Series(['4 cups', '1 cup', '2 large', '1 can'], index = ['Flour', 'Milk', 'Eggs', 'Spam'], name ='Dinner')\n",
    "\n",
    "# Check your answer\n",
    "print(ingredients)"
   ]
  },
  {
   "cell_type": "code",
   "execution_count": 7,
   "id": "d609a78e",
   "metadata": {
    "execution": {
     "iopub.execute_input": "2023-03-29T09:11:04.030232Z",
     "iopub.status.busy": "2023-03-29T09:11:04.029114Z",
     "iopub.status.idle": "2023-03-29T09:11:04.038143Z",
     "shell.execute_reply": "2023-03-29T09:11:04.036748Z"
    },
    "papermill": {
     "duration": 0.019032,
     "end_time": "2023-03-29T09:11:04.040886",
     "exception": false,
     "start_time": "2023-03-29T09:11:04.021854",
     "status": "completed"
    },
    "tags": []
   },
   "outputs": [
    {
     "name": "stdout",
     "output_type": "stream",
     "text": [
      "Flour     4 cups\n",
      "Milk       1 cup\n",
      "Eggs     2 large\n",
      "Spam       1 can\n",
      "Name: Dinner, dtype: object\n"
     ]
    }
   ],
   "source": [
    "import pandas as pd\n",
    "ingredients = pd.Series(['4 cups', '1 cup', '2 large', '1 can'], index = ['Flour', 'Milk', 'Eggs', 'Spam'], name = 'Dinner')\n",
    "print(ingredients)"
   ]
  },
  {
   "cell_type": "markdown",
   "id": "18fc919a",
   "metadata": {
    "papermill": {
     "duration": 0.005574,
     "end_time": "2023-03-29T09:11:04.052468",
     "exception": false,
     "start_time": "2023-03-29T09:11:04.046894",
     "status": "completed"
    },
    "tags": []
   },
   "source": [
    "## 4.\n",
    "\n",
    "Read the following csv dataset of wine reviews into a DataFrame called `reviews`:\n",
    "\n",
    "![](https://i.imgur.com/74RCZtU.png)\n",
    "\n",
    "The filepath to the csv file is `../input/wine-reviews/winemag-data_first150k.csv`. The first few lines look like:\n",
    "\n",
    "```\n",
    ",country,description,designation,points,price,province,region_1,region_2,variety,winery\n",
    "0,US,\"This tremendous 100% varietal wine[...]\",Martha's Vineyard,96,235.0,California,Napa Valley,Napa,Cabernet Sauvignon,Heitz\n",
    "1,Spain,\"Ripe aromas of fig, blackberry and[...]\",Carodorum Selección Especial Reserva,96,110.0,Northern Spain,Toro,,Tinta de Toro,Bodega Carmen Rodríguez\n",
    "```"
   ]
  },
  {
   "cell_type": "code",
   "execution_count": 8,
   "id": "82dfedde",
   "metadata": {
    "execution": {
     "iopub.execute_input": "2023-03-29T09:11:04.066420Z",
     "iopub.status.busy": "2023-03-29T09:11:04.065529Z",
     "iopub.status.idle": "2023-03-29T09:11:04.986286Z",
     "shell.execute_reply": "2023-03-29T09:11:04.985330Z"
    },
    "papermill": {
     "duration": 0.931043,
     "end_time": "2023-03-29T09:11:04.989293",
     "exception": false,
     "start_time": "2023-03-29T09:11:04.058250",
     "status": "completed"
    },
    "tags": []
   },
   "outputs": [
    {
     "data": {
      "text/html": [
       "<div>\n",
       "<style scoped>\n",
       "    .dataframe tbody tr th:only-of-type {\n",
       "        vertical-align: middle;\n",
       "    }\n",
       "\n",
       "    .dataframe tbody tr th {\n",
       "        vertical-align: top;\n",
       "    }\n",
       "\n",
       "    .dataframe thead th {\n",
       "        text-align: right;\n",
       "    }\n",
       "</style>\n",
       "<table border=\"1\" class=\"dataframe\">\n",
       "  <thead>\n",
       "    <tr style=\"text-align: right;\">\n",
       "      <th></th>\n",
       "      <th>Unnamed: 0</th>\n",
       "      <th>country</th>\n",
       "      <th>description</th>\n",
       "      <th>designation</th>\n",
       "      <th>points</th>\n",
       "      <th>price</th>\n",
       "      <th>province</th>\n",
       "      <th>region_1</th>\n",
       "      <th>region_2</th>\n",
       "      <th>variety</th>\n",
       "      <th>winery</th>\n",
       "    </tr>\n",
       "  </thead>\n",
       "  <tbody>\n",
       "    <tr>\n",
       "      <th>0</th>\n",
       "      <td>0</td>\n",
       "      <td>US</td>\n",
       "      <td>This tremendous 100% varietal wine hails from ...</td>\n",
       "      <td>Martha's Vineyard</td>\n",
       "      <td>96</td>\n",
       "      <td>235.0</td>\n",
       "      <td>California</td>\n",
       "      <td>Napa Valley</td>\n",
       "      <td>Napa</td>\n",
       "      <td>Cabernet Sauvignon</td>\n",
       "      <td>Heitz</td>\n",
       "    </tr>\n",
       "    <tr>\n",
       "      <th>1</th>\n",
       "      <td>1</td>\n",
       "      <td>Spain</td>\n",
       "      <td>Ripe aromas of fig, blackberry and cassis are ...</td>\n",
       "      <td>Carodorum Selección Especial Reserva</td>\n",
       "      <td>96</td>\n",
       "      <td>110.0</td>\n",
       "      <td>Northern Spain</td>\n",
       "      <td>Toro</td>\n",
       "      <td>NaN</td>\n",
       "      <td>Tinta de Toro</td>\n",
       "      <td>Bodega Carmen Rodríguez</td>\n",
       "    </tr>\n",
       "    <tr>\n",
       "      <th>2</th>\n",
       "      <td>2</td>\n",
       "      <td>US</td>\n",
       "      <td>Mac Watson honors the memory of a wine once ma...</td>\n",
       "      <td>Special Selected Late Harvest</td>\n",
       "      <td>96</td>\n",
       "      <td>90.0</td>\n",
       "      <td>California</td>\n",
       "      <td>Knights Valley</td>\n",
       "      <td>Sonoma</td>\n",
       "      <td>Sauvignon Blanc</td>\n",
       "      <td>Macauley</td>\n",
       "    </tr>\n",
       "    <tr>\n",
       "      <th>3</th>\n",
       "      <td>3</td>\n",
       "      <td>US</td>\n",
       "      <td>This spent 20 months in 30% new French oak, an...</td>\n",
       "      <td>Reserve</td>\n",
       "      <td>96</td>\n",
       "      <td>65.0</td>\n",
       "      <td>Oregon</td>\n",
       "      <td>Willamette Valley</td>\n",
       "      <td>Willamette Valley</td>\n",
       "      <td>Pinot Noir</td>\n",
       "      <td>Ponzi</td>\n",
       "    </tr>\n",
       "    <tr>\n",
       "      <th>4</th>\n",
       "      <td>4</td>\n",
       "      <td>France</td>\n",
       "      <td>This is the top wine from La Bégude, named aft...</td>\n",
       "      <td>La Brûlade</td>\n",
       "      <td>95</td>\n",
       "      <td>66.0</td>\n",
       "      <td>Provence</td>\n",
       "      <td>Bandol</td>\n",
       "      <td>NaN</td>\n",
       "      <td>Provence red blend</td>\n",
       "      <td>Domaine de la Bégude</td>\n",
       "    </tr>\n",
       "  </tbody>\n",
       "</table>\n",
       "</div>"
      ],
      "text/plain": [
       "   Unnamed: 0 country                                        description  \\\n",
       "0           0      US  This tremendous 100% varietal wine hails from ...   \n",
       "1           1   Spain  Ripe aromas of fig, blackberry and cassis are ...   \n",
       "2           2      US  Mac Watson honors the memory of a wine once ma...   \n",
       "3           3      US  This spent 20 months in 30% new French oak, an...   \n",
       "4           4  France  This is the top wine from La Bégude, named aft...   \n",
       "\n",
       "                            designation  points  price        province  \\\n",
       "0                     Martha's Vineyard      96  235.0      California   \n",
       "1  Carodorum Selección Especial Reserva      96  110.0  Northern Spain   \n",
       "2         Special Selected Late Harvest      96   90.0      California   \n",
       "3                               Reserve      96   65.0          Oregon   \n",
       "4                            La Brûlade      95   66.0        Provence   \n",
       "\n",
       "            region_1           region_2             variety  \\\n",
       "0        Napa Valley               Napa  Cabernet Sauvignon   \n",
       "1               Toro                NaN       Tinta de Toro   \n",
       "2     Knights Valley             Sonoma     Sauvignon Blanc   \n",
       "3  Willamette Valley  Willamette Valley          Pinot Noir   \n",
       "4             Bandol                NaN  Provence red blend   \n",
       "\n",
       "                    winery  \n",
       "0                    Heitz  \n",
       "1  Bodega Carmen Rodríguez  \n",
       "2                 Macauley  \n",
       "3                    Ponzi  \n",
       "4     Domaine de la Bégude  "
      ]
     },
     "execution_count": 8,
     "metadata": {},
     "output_type": "execute_result"
    }
   ],
   "source": [
    "import pandas as pd\n",
    "reviews = pd.read_csv('../input/wine-reviews/winemag-data_first150k.csv')\n",
    "\n",
    "# Check your answer\n",
    "reviews.head()"
   ]
  },
  {
   "cell_type": "code",
   "execution_count": 9,
   "id": "74ddd087",
   "metadata": {
    "execution": {
     "iopub.execute_input": "2023-03-29T09:11:05.009820Z",
     "iopub.status.busy": "2023-03-29T09:11:05.009066Z",
     "iopub.status.idle": "2023-03-29T09:11:05.875475Z",
     "shell.execute_reply": "2023-03-29T09:11:05.874090Z"
    },
    "papermill": {
     "duration": 0.88063,
     "end_time": "2023-03-29T09:11:05.878985",
     "exception": false,
     "start_time": "2023-03-29T09:11:04.998355",
     "status": "completed"
    },
    "tags": []
   },
   "outputs": [
    {
     "data": {
      "text/html": [
       "<div>\n",
       "<style scoped>\n",
       "    .dataframe tbody tr th:only-of-type {\n",
       "        vertical-align: middle;\n",
       "    }\n",
       "\n",
       "    .dataframe tbody tr th {\n",
       "        vertical-align: top;\n",
       "    }\n",
       "\n",
       "    .dataframe thead th {\n",
       "        text-align: right;\n",
       "    }\n",
       "</style>\n",
       "<table border=\"1\" class=\"dataframe\">\n",
       "  <thead>\n",
       "    <tr style=\"text-align: right;\">\n",
       "      <th></th>\n",
       "      <th>Unnamed: 0</th>\n",
       "      <th>country</th>\n",
       "      <th>description</th>\n",
       "      <th>designation</th>\n",
       "      <th>points</th>\n",
       "      <th>price</th>\n",
       "      <th>province</th>\n",
       "      <th>region_1</th>\n",
       "      <th>region_2</th>\n",
       "      <th>variety</th>\n",
       "      <th>winery</th>\n",
       "    </tr>\n",
       "  </thead>\n",
       "  <tbody>\n",
       "    <tr>\n",
       "      <th>0</th>\n",
       "      <td>0</td>\n",
       "      <td>US</td>\n",
       "      <td>This tremendous 100% varietal wine hails from ...</td>\n",
       "      <td>Martha's Vineyard</td>\n",
       "      <td>96</td>\n",
       "      <td>235.0</td>\n",
       "      <td>California</td>\n",
       "      <td>Napa Valley</td>\n",
       "      <td>Napa</td>\n",
       "      <td>Cabernet Sauvignon</td>\n",
       "      <td>Heitz</td>\n",
       "    </tr>\n",
       "    <tr>\n",
       "      <th>1</th>\n",
       "      <td>1</td>\n",
       "      <td>Spain</td>\n",
       "      <td>Ripe aromas of fig, blackberry and cassis are ...</td>\n",
       "      <td>Carodorum Selección Especial Reserva</td>\n",
       "      <td>96</td>\n",
       "      <td>110.0</td>\n",
       "      <td>Northern Spain</td>\n",
       "      <td>Toro</td>\n",
       "      <td>NaN</td>\n",
       "      <td>Tinta de Toro</td>\n",
       "      <td>Bodega Carmen Rodríguez</td>\n",
       "    </tr>\n",
       "    <tr>\n",
       "      <th>2</th>\n",
       "      <td>2</td>\n",
       "      <td>US</td>\n",
       "      <td>Mac Watson honors the memory of a wine once ma...</td>\n",
       "      <td>Special Selected Late Harvest</td>\n",
       "      <td>96</td>\n",
       "      <td>90.0</td>\n",
       "      <td>California</td>\n",
       "      <td>Knights Valley</td>\n",
       "      <td>Sonoma</td>\n",
       "      <td>Sauvignon Blanc</td>\n",
       "      <td>Macauley</td>\n",
       "    </tr>\n",
       "    <tr>\n",
       "      <th>3</th>\n",
       "      <td>3</td>\n",
       "      <td>US</td>\n",
       "      <td>This spent 20 months in 30% new French oak, an...</td>\n",
       "      <td>Reserve</td>\n",
       "      <td>96</td>\n",
       "      <td>65.0</td>\n",
       "      <td>Oregon</td>\n",
       "      <td>Willamette Valley</td>\n",
       "      <td>Willamette Valley</td>\n",
       "      <td>Pinot Noir</td>\n",
       "      <td>Ponzi</td>\n",
       "    </tr>\n",
       "    <tr>\n",
       "      <th>4</th>\n",
       "      <td>4</td>\n",
       "      <td>France</td>\n",
       "      <td>This is the top wine from La Bégude, named aft...</td>\n",
       "      <td>La Brûlade</td>\n",
       "      <td>95</td>\n",
       "      <td>66.0</td>\n",
       "      <td>Provence</td>\n",
       "      <td>Bandol</td>\n",
       "      <td>NaN</td>\n",
       "      <td>Provence red blend</td>\n",
       "      <td>Domaine de la Bégude</td>\n",
       "    </tr>\n",
       "  </tbody>\n",
       "</table>\n",
       "</div>"
      ],
      "text/plain": [
       "   Unnamed: 0 country                                        description  \\\n",
       "0           0      US  This tremendous 100% varietal wine hails from ...   \n",
       "1           1   Spain  Ripe aromas of fig, blackberry and cassis are ...   \n",
       "2           2      US  Mac Watson honors the memory of a wine once ma...   \n",
       "3           3      US  This spent 20 months in 30% new French oak, an...   \n",
       "4           4  France  This is the top wine from La Bégude, named aft...   \n",
       "\n",
       "                            designation  points  price        province  \\\n",
       "0                     Martha's Vineyard      96  235.0      California   \n",
       "1  Carodorum Selección Especial Reserva      96  110.0  Northern Spain   \n",
       "2         Special Selected Late Harvest      96   90.0      California   \n",
       "3                               Reserve      96   65.0          Oregon   \n",
       "4                            La Brûlade      95   66.0        Provence   \n",
       "\n",
       "            region_1           region_2             variety  \\\n",
       "0        Napa Valley               Napa  Cabernet Sauvignon   \n",
       "1               Toro                NaN       Tinta de Toro   \n",
       "2     Knights Valley             Sonoma     Sauvignon Blanc   \n",
       "3  Willamette Valley  Willamette Valley          Pinot Noir   \n",
       "4             Bandol                NaN  Provence red blend   \n",
       "\n",
       "                    winery  \n",
       "0                    Heitz  \n",
       "1  Bodega Carmen Rodríguez  \n",
       "2                 Macauley  \n",
       "3                    Ponzi  \n",
       "4     Domaine de la Bégude  "
      ]
     },
     "execution_count": 9,
     "metadata": {},
     "output_type": "execute_result"
    }
   ],
   "source": [
    "import pandas as pd\n",
    "reviews = pd.read_csv('../input/wine-reviews/winemag-data_first150k.csv')\n",
    "\n",
    "# Check your answer\n",
    "reviews.head()"
   ]
  },
  {
   "cell_type": "markdown",
   "id": "a7938e7a",
   "metadata": {
    "papermill": {
     "duration": 0.007151,
     "end_time": "2023-03-29T09:11:05.893432",
     "exception": false,
     "start_time": "2023-03-29T09:11:05.886281",
     "status": "completed"
    },
    "tags": []
   },
   "source": [
    "## 5.\n",
    "\n",
    "Run the cell below to create and display a DataFrame called `animals`:"
   ]
  },
  {
   "cell_type": "code",
   "execution_count": 10,
   "id": "1c08c0d6",
   "metadata": {
    "execution": {
     "iopub.execute_input": "2023-03-29T09:11:05.909533Z",
     "iopub.status.busy": "2023-03-29T09:11:05.909090Z",
     "iopub.status.idle": "2023-03-29T09:11:05.921065Z",
     "shell.execute_reply": "2023-03-29T09:11:05.919795Z"
    },
    "papermill": {
     "duration": 0.022412,
     "end_time": "2023-03-29T09:11:05.923580",
     "exception": false,
     "start_time": "2023-03-29T09:11:05.901168",
     "status": "completed"
    },
    "tags": []
   },
   "outputs": [
    {
     "data": {
      "text/html": [
       "<div>\n",
       "<style scoped>\n",
       "    .dataframe tbody tr th:only-of-type {\n",
       "        vertical-align: middle;\n",
       "    }\n",
       "\n",
       "    .dataframe tbody tr th {\n",
       "        vertical-align: top;\n",
       "    }\n",
       "\n",
       "    .dataframe thead th {\n",
       "        text-align: right;\n",
       "    }\n",
       "</style>\n",
       "<table border=\"1\" class=\"dataframe\">\n",
       "  <thead>\n",
       "    <tr style=\"text-align: right;\">\n",
       "      <th></th>\n",
       "      <th>Cows</th>\n",
       "      <th>Goats</th>\n",
       "    </tr>\n",
       "  </thead>\n",
       "  <tbody>\n",
       "    <tr>\n",
       "      <th>Year 1</th>\n",
       "      <td>12</td>\n",
       "      <td>22</td>\n",
       "    </tr>\n",
       "    <tr>\n",
       "      <th>Year 2</th>\n",
       "      <td>20</td>\n",
       "      <td>19</td>\n",
       "    </tr>\n",
       "  </tbody>\n",
       "</table>\n",
       "</div>"
      ],
      "text/plain": [
       "        Cows  Goats\n",
       "Year 1    12     22\n",
       "Year 2    20     19"
      ]
     },
     "execution_count": 10,
     "metadata": {},
     "output_type": "execute_result"
    }
   ],
   "source": [
    "animals = pd.DataFrame({'Cows': [12, 20], 'Goats': [22, 19]}, index=['Year 1', 'Year 2'])\n",
    "animals"
   ]
  },
  {
   "cell_type": "markdown",
   "id": "05b075db",
   "metadata": {
    "papermill": {
     "duration": 0.006528,
     "end_time": "2023-03-29T09:11:05.936826",
     "exception": false,
     "start_time": "2023-03-29T09:11:05.930298",
     "status": "completed"
    },
    "tags": []
   },
   "source": [
    "In the cell below, write code to save this DataFrame to disk as a csv file with the name `cows_and_goats.csv`."
   ]
  },
  {
   "cell_type": "code",
   "execution_count": 11,
   "id": "589d84c4",
   "metadata": {
    "execution": {
     "iopub.execute_input": "2023-03-29T09:11:05.952754Z",
     "iopub.status.busy": "2023-03-29T09:11:05.951988Z",
     "iopub.status.idle": "2023-03-29T09:11:05.966871Z",
     "shell.execute_reply": "2023-03-29T09:11:05.965281Z"
    },
    "papermill": {
     "duration": 0.026994,
     "end_time": "2023-03-29T09:11:05.970734",
     "exception": false,
     "start_time": "2023-03-29T09:11:05.943740",
     "status": "completed"
    },
    "tags": []
   },
   "outputs": [
    {
     "name": "stdout",
     "output_type": "stream",
     "text": [
      "        Cows  Goats\n",
      "Year 1    12     22\n",
      "Year 2    20     19\n"
     ]
    }
   ],
   "source": [
    "# Your code goes here\n",
    "import pandas as pd\n",
    "animals = pd.DataFrame({'Cows': [12, 20], 'Goats': [22, 19]}, index=['Year 1', 'Year 2'])\n",
    "animals.to_csv(r'cows_and_goats.csv')\n",
    "# Check your answer\n",
    "print(animals)"
   ]
  },
  {
   "cell_type": "code",
   "execution_count": 12,
   "id": "cd87ad1c",
   "metadata": {
    "execution": {
     "iopub.execute_input": "2023-03-29T09:11:05.987649Z",
     "iopub.status.busy": "2023-03-29T09:11:05.986793Z",
     "iopub.status.idle": "2023-03-29T09:11:05.997416Z",
     "shell.execute_reply": "2023-03-29T09:11:05.996147Z"
    },
    "papermill": {
     "duration": 0.021563,
     "end_time": "2023-03-29T09:11:05.999811",
     "exception": false,
     "start_time": "2023-03-29T09:11:05.978248",
     "status": "completed"
    },
    "tags": []
   },
   "outputs": [
    {
     "name": "stdout",
     "output_type": "stream",
     "text": [
      "        Cows  Goats\n",
      "Year 1    12     22\n",
      "Year 2    20     19\n"
     ]
    }
   ],
   "source": [
    "import pandas as pd\n",
    "animals = pd.DataFrame({'Cows' : [12, 20], 'Goats' : [22, 19]}, index=['Year 1', 'Year 2'])\n",
    "animals.to_csv(r'cows_and_goats.csv')\n",
    "print(animals)"
   ]
  },
  {
   "cell_type": "markdown",
   "id": "ee3c951a",
   "metadata": {
    "papermill": {
     "duration": 0.006624,
     "end_time": "2023-03-29T09:11:06.013336",
     "exception": false,
     "start_time": "2023-03-29T09:11:06.006712",
     "status": "completed"
    },
    "tags": []
   },
   "source": [
    "# Keep going\n",
    "\n",
    "Move on to learn about **[indexing, selecting and assigning](https://www.kaggle.com/residentmario/indexing-selecting-assigning)**."
   ]
  },
  {
   "cell_type": "markdown",
   "id": "71d77dbe",
   "metadata": {
    "papermill": {
     "duration": 0.006592,
     "end_time": "2023-03-29T09:11:06.026934",
     "exception": false,
     "start_time": "2023-03-29T09:11:06.020342",
     "status": "completed"
    },
    "tags": []
   },
   "source": [
    "---\n",
    "\n",
    "\n",
    "\n",
    "\n",
    "*Have questions or comments? Visit the [course discussion forum](https://www.kaggle.com/learn/pandas/discussion) to chat with other learners.*"
   ]
  }
 ],
 "metadata": {
  "kernelspec": {
   "display_name": "Python 3",
   "language": "python",
   "name": "python3"
  },
  "language_info": {
   "codemirror_mode": {
    "name": "ipython",
    "version": 3
   },
   "file_extension": ".py",
   "mimetype": "text/x-python",
   "name": "python",
   "nbconvert_exporter": "python",
   "pygments_lexer": "ipython3",
   "version": "3.7.12"
  },
  "papermill": {
   "default_parameters": {},
   "duration": 14.671678,
   "end_time": "2023-03-29T09:11:06.757987",
   "environment_variables": {},
   "exception": null,
   "input_path": "__notebook__.ipynb",
   "output_path": "__notebook__.ipynb",
   "parameters": {},
   "start_time": "2023-03-29T09:10:52.086309",
   "version": "2.4.0"
  }
 },
 "nbformat": 4,
 "nbformat_minor": 5
}
