{
 "cells": [
  {
   "cell_type": "markdown",
   "id": "a6219d23",
   "metadata": {
    "papermill": {
     "duration": 0.006807,
     "end_time": "2023-03-29T08:50:19.001066",
     "exception": false,
     "start_time": "2023-03-29T08:50:18.994259",
     "status": "completed"
    },
    "tags": []
   },
   "source": [
    "**This notebook is an exercise in the [Pandas](https://www.kaggle.com/learn/pandas) course.  You can reference the tutorial at [this link](https://www.kaggle.com/residentmario/creating-reading-and-writing).**\n",
    "\n",
    "---\n"
   ]
  },
  {
   "cell_type": "markdown",
   "id": "ee1d65cf",
   "metadata": {
    "papermill": {
     "duration": 0.005103,
     "end_time": "2023-03-29T08:50:19.012552",
     "exception": false,
     "start_time": "2023-03-29T08:50:19.007449",
     "status": "completed"
    },
    "tags": []
   },
   "source": [
    "# Introduction\n",
    "\n",
    "The first step in most data analytics projects is reading the data file. In this exercise, you'll create Series and DataFrame objects, both by hand and by reading data files.\n",
    "\n",
    "Run the code cell below to load libraries you will need (including code to check your answers)."
   ]
  },
  {
   "cell_type": "code",
   "execution_count": 1,
   "id": "947b1d6b",
   "metadata": {
    "execution": {
     "iopub.execute_input": "2023-03-29T08:50:19.026804Z",
     "iopub.status.busy": "2023-03-29T08:50:19.024913Z",
     "iopub.status.idle": "2023-03-29T08:50:20.941925Z",
     "shell.execute_reply": "2023-03-29T08:50:20.940537Z"
    },
    "papermill": {
     "duration": 1.928283,
     "end_time": "2023-03-29T08:50:20.946183",
     "exception": false,
     "start_time": "2023-03-29T08:50:19.017900",
     "status": "completed"
    },
    "tags": []
   },
   "outputs": [
    {
     "name": "stdout",
     "output_type": "stream",
     "text": [
      "Setup complete.\n"
     ]
    }
   ],
   "source": [
    "import pandas as pd\n",
    "pd.set_option('max_rows', 5)\n",
    "from learntools.core import binder; binder.bind(globals())\n",
    "from learntools.pandas.creating_reading_and_writing import *\n",
    "print(\"Setup complete.\")"
   ]
  },
  {
   "cell_type": "markdown",
   "id": "652bf464",
   "metadata": {
    "papermill": {
     "duration": 0.005555,
     "end_time": "2023-03-29T08:50:20.958274",
     "exception": false,
     "start_time": "2023-03-29T08:50:20.952719",
     "status": "completed"
    },
    "tags": []
   },
   "source": [
    "# Exercises"
   ]
  },
  {
   "cell_type": "markdown",
   "id": "d7017834",
   "metadata": {
    "papermill": {
     "duration": 0.005363,
     "end_time": "2023-03-29T08:50:20.969526",
     "exception": false,
     "start_time": "2023-03-29T08:50:20.964163",
     "status": "completed"
    },
    "tags": []
   },
   "source": [
    "## 1.\n",
    "\n",
    "In the cell below, create a DataFrame `fruits` that looks like this:\n",
    "\n",
    "![](https://i.imgur.com/Ax3pp2A.png)"
   ]
  },
  {
   "cell_type": "code",
   "execution_count": 2,
   "id": "b7ce8f33",
   "metadata": {
    "execution": {
     "iopub.execute_input": "2023-03-29T08:50:20.983123Z",
     "iopub.status.busy": "2023-03-29T08:50:20.982647Z",
     "iopub.status.idle": "2023-03-29T08:50:20.998524Z",
     "shell.execute_reply": "2023-03-29T08:50:20.996383Z"
    },
    "papermill": {
     "duration": 0.027453,
     "end_time": "2023-03-29T08:50:21.002657",
     "exception": false,
     "start_time": "2023-03-29T08:50:20.975204",
     "status": "completed"
    },
    "tags": []
   },
   "outputs": [
    {
     "name": "stdout",
     "output_type": "stream",
     "text": [
      "   Apple  Bananas\n",
      "0     30       21\n"
     ]
    }
   ],
   "source": [
    "import pandas as pd\n",
    "fruits = pd.DataFrame({'Apple' : [30] , 'Bananas' : [21]})\n",
    "print(fruits)"
   ]
  },
  {
   "cell_type": "code",
   "execution_count": 3,
   "id": "18767717",
   "metadata": {
    "execution": {
     "iopub.execute_input": "2023-03-29T08:50:21.017695Z",
     "iopub.status.busy": "2023-03-29T08:50:21.017182Z",
     "iopub.status.idle": "2023-03-29T08:50:21.027489Z",
     "shell.execute_reply": "2023-03-29T08:50:21.026055Z"
    },
    "papermill": {
     "duration": 0.020556,
     "end_time": "2023-03-29T08:50:21.029941",
     "exception": false,
     "start_time": "2023-03-29T08:50:21.009385",
     "status": "completed"
    },
    "tags": []
   },
   "outputs": [
    {
     "name": "stdout",
     "output_type": "stream",
     "text": [
      "   Apple  Bananas\n",
      "0     30       21\n"
     ]
    }
   ],
   "source": [
    "import pandas as pd\n",
    "fruits = pd.DataFrame({'Apple' : [30], 'Bananas' : [21]})\n",
    "print(fruits)"
   ]
  },
  {
   "cell_type": "markdown",
   "id": "0ad06483",
   "metadata": {
    "papermill": {
     "duration": 0.005322,
     "end_time": "2023-03-29T08:50:21.041012",
     "exception": false,
     "start_time": "2023-03-29T08:50:21.035690",
     "status": "completed"
    },
    "tags": []
   },
   "source": [
    "## 2.\n",
    "\n",
    "Create a dataframe `fruit_sales` that matches the diagram below:\n",
    "\n",
    "![](https://i.imgur.com/CHPn7ZF.png)"
   ]
  },
  {
   "cell_type": "code",
   "execution_count": 4,
   "id": "2d6a1d80",
   "metadata": {
    "execution": {
     "iopub.execute_input": "2023-03-29T08:50:21.055956Z",
     "iopub.status.busy": "2023-03-29T08:50:21.054615Z",
     "iopub.status.idle": "2023-03-29T08:50:21.065595Z",
     "shell.execute_reply": "2023-03-29T08:50:21.064155Z"
    },
    "papermill": {
     "duration": 0.021645,
     "end_time": "2023-03-29T08:50:21.068655",
     "exception": false,
     "start_time": "2023-03-29T08:50:21.047010",
     "status": "completed"
    },
    "tags": []
   },
   "outputs": [
    {
     "name": "stdout",
     "output_type": "stream",
     "text": [
      "            Apples  Bananas\n",
      "2017 Sales      35       21\n",
      "2018 sales      41       34\n"
     ]
    }
   ],
   "source": [
    "# Your code goes here. Create a dataframe matching the above diagram and assign it to the variable fruit_sales.\n",
    "import pandas as pd\n",
    "fruit_sales = pd.DataFrame({'Apples' : [35, 41], 'Bananas' : [21,34]}, index =['2017 Sales', '2018 sales'])\n",
    "\n",
    "# Check your answer\n",
    "print(fruit_sales)"
   ]
  },
  {
   "cell_type": "code",
   "execution_count": 5,
   "id": "da2ce0c9",
   "metadata": {
    "execution": {
     "iopub.execute_input": "2023-03-29T08:50:21.083660Z",
     "iopub.status.busy": "2023-03-29T08:50:21.083024Z",
     "iopub.status.idle": "2023-03-29T08:50:21.095247Z",
     "shell.execute_reply": "2023-03-29T08:50:21.093255Z"
    },
    "papermill": {
     "duration": 0.023234,
     "end_time": "2023-03-29T08:50:21.097881",
     "exception": false,
     "start_time": "2023-03-29T08:50:21.074647",
     "status": "completed"
    },
    "tags": []
   },
   "outputs": [
    {
     "name": "stdout",
     "output_type": "stream",
     "text": [
      "            Apples  Bananas\n",
      "2017 Sales      35       21\n",
      "2018 sales      41       34\n"
     ]
    }
   ],
   "source": [
    "# Your code goes here. Create a dataframe matching the above diagram and assign it to the variable fruit_sales.\n",
    "import pandas as pd\n",
    "fruit_sales = pd.DataFrame({'Apples' : [35, 41], 'Bananas' : [21,34]}, index =['2017 Sales', '2018 sales'])\n",
    "\n",
    "# Check your answer\n",
    "print(fruit_sales)"
   ]
  },
  {
   "cell_type": "markdown",
   "id": "fbdce06c",
   "metadata": {
    "papermill": {
     "duration": 0.005889,
     "end_time": "2023-03-29T08:50:21.110302",
     "exception": false,
     "start_time": "2023-03-29T08:50:21.104413",
     "status": "completed"
    },
    "tags": []
   },
   "source": [
    "## 3.\n",
    "\n",
    "Create a variable `ingredients` with a Series that looks like:\n",
    "\n",
    "```\n",
    "Flour     4 cups\n",
    "Milk       1 cup\n",
    "Eggs     2 large\n",
    "Spam       1 can\n",
    "Name: Dinner, dtype: object\n",
    "```"
   ]
  },
  {
   "cell_type": "code",
   "execution_count": 6,
   "id": "7d848704",
   "metadata": {
    "execution": {
     "iopub.execute_input": "2023-03-29T08:50:21.124831Z",
     "iopub.status.busy": "2023-03-29T08:50:21.124361Z",
     "iopub.status.idle": "2023-03-29T08:50:21.132909Z",
     "shell.execute_reply": "2023-03-29T08:50:21.131397Z"
    },
    "papermill": {
     "duration": 0.019266,
     "end_time": "2023-03-29T08:50:21.136153",
     "exception": false,
     "start_time": "2023-03-29T08:50:21.116887",
     "status": "completed"
    },
    "tags": []
   },
   "outputs": [
    {
     "name": "stdout",
     "output_type": "stream",
     "text": [
      "Flour     4 cups\n",
      "Milk       1 cup\n",
      "Eggs     2 large\n",
      "Spam       1 can\n",
      "Name: Dinner, dtype: object\n"
     ]
    }
   ],
   "source": [
    "import pandas as pd\n",
    "ingredients = pd.Series(['4 cups', '1 cup', '2 large', '1 can'], index = ['Flour', 'Milk', 'Eggs', 'Spam'], name ='Dinner')\n",
    "\n",
    "# Check your answer\n",
    "print(ingredients)"
   ]
  },
  {
   "cell_type": "code",
   "execution_count": 7,
   "id": "1431f3bc",
   "metadata": {
    "execution": {
     "iopub.execute_input": "2023-03-29T08:50:21.152440Z",
     "iopub.status.busy": "2023-03-29T08:50:21.151943Z",
     "iopub.status.idle": "2023-03-29T08:50:21.163863Z",
     "shell.execute_reply": "2023-03-29T08:50:21.159960Z"
    },
    "papermill": {
     "duration": 0.02417,
     "end_time": "2023-03-29T08:50:21.168160",
     "exception": false,
     "start_time": "2023-03-29T08:50:21.143990",
     "status": "completed"
    },
    "tags": []
   },
   "outputs": [
    {
     "name": "stdout",
     "output_type": "stream",
     "text": [
      "Flour     4 cups\n",
      "Milk       1 cup\n",
      "Eggs     2 large\n",
      "Spam       1 can\n",
      "Name: Dinner, dtype: object\n"
     ]
    }
   ],
   "source": [
    "import pandas as pd\n",
    "ingredients = pd.Series(['4 cups', '1 cup', '2 large', '1 can'], index = ['Flour', 'Milk', 'Eggs', 'Spam'], name = 'Dinner')\n",
    "print(ingredients)"
   ]
  },
  {
   "cell_type": "markdown",
   "id": "beb36f73",
   "metadata": {
    "papermill": {
     "duration": 0.005661,
     "end_time": "2023-03-29T08:50:21.180413",
     "exception": false,
     "start_time": "2023-03-29T08:50:21.174752",
     "status": "completed"
    },
    "tags": []
   },
   "source": [
    "## 4.\n",
    "\n",
    "Read the following csv dataset of wine reviews into a DataFrame called `reviews`:\n",
    "\n",
    "![](https://i.imgur.com/74RCZtU.png)\n",
    "\n",
    "The filepath to the csv file is `../input/wine-reviews/winemag-data_first150k.csv`. The first few lines look like:\n",
    "\n",
    "```\n",
    ",country,description,designation,points,price,province,region_1,region_2,variety,winery\n",
    "0,US,\"This tremendous 100% varietal wine[...]\",Martha's Vineyard,96,235.0,California,Napa Valley,Napa,Cabernet Sauvignon,Heitz\n",
    "1,Spain,\"Ripe aromas of fig, blackberry and[...]\",Carodorum Selección Especial Reserva,96,110.0,Northern Spain,Toro,,Tinta de Toro,Bodega Carmen Rodríguez\n",
    "```"
   ]
  },
  {
   "cell_type": "code",
   "execution_count": 8,
   "id": "1a1090d6",
   "metadata": {
    "execution": {
     "iopub.execute_input": "2023-03-29T08:50:21.197484Z",
     "iopub.status.busy": "2023-03-29T08:50:21.196947Z",
     "iopub.status.idle": "2023-03-29T08:50:22.154140Z",
     "shell.execute_reply": "2023-03-29T08:50:22.153151Z"
    },
    "papermill": {
     "duration": 0.96986,
     "end_time": "2023-03-29T08:50:22.156660",
     "exception": false,
     "start_time": "2023-03-29T08:50:21.186800",
     "status": "completed"
    },
    "tags": []
   },
   "outputs": [
    {
     "data": {
      "text/html": [
       "<div>\n",
       "<style scoped>\n",
       "    .dataframe tbody tr th:only-of-type {\n",
       "        vertical-align: middle;\n",
       "    }\n",
       "\n",
       "    .dataframe tbody tr th {\n",
       "        vertical-align: top;\n",
       "    }\n",
       "\n",
       "    .dataframe thead th {\n",
       "        text-align: right;\n",
       "    }\n",
       "</style>\n",
       "<table border=\"1\" class=\"dataframe\">\n",
       "  <thead>\n",
       "    <tr style=\"text-align: right;\">\n",
       "      <th></th>\n",
       "      <th>Unnamed: 0</th>\n",
       "      <th>country</th>\n",
       "      <th>description</th>\n",
       "      <th>designation</th>\n",
       "      <th>points</th>\n",
       "      <th>price</th>\n",
       "      <th>province</th>\n",
       "      <th>region_1</th>\n",
       "      <th>region_2</th>\n",
       "      <th>variety</th>\n",
       "      <th>winery</th>\n",
       "    </tr>\n",
       "  </thead>\n",
       "  <tbody>\n",
       "    <tr>\n",
       "      <th>0</th>\n",
       "      <td>0</td>\n",
       "      <td>US</td>\n",
       "      <td>This tremendous 100% varietal wine hails from ...</td>\n",
       "      <td>Martha's Vineyard</td>\n",
       "      <td>96</td>\n",
       "      <td>235.0</td>\n",
       "      <td>California</td>\n",
       "      <td>Napa Valley</td>\n",
       "      <td>Napa</td>\n",
       "      <td>Cabernet Sauvignon</td>\n",
       "      <td>Heitz</td>\n",
       "    </tr>\n",
       "    <tr>\n",
       "      <th>1</th>\n",
       "      <td>1</td>\n",
       "      <td>Spain</td>\n",
       "      <td>Ripe aromas of fig, blackberry and cassis are ...</td>\n",
       "      <td>Carodorum Selección Especial Reserva</td>\n",
       "      <td>96</td>\n",
       "      <td>110.0</td>\n",
       "      <td>Northern Spain</td>\n",
       "      <td>Toro</td>\n",
       "      <td>NaN</td>\n",
       "      <td>Tinta de Toro</td>\n",
       "      <td>Bodega Carmen Rodríguez</td>\n",
       "    </tr>\n",
       "    <tr>\n",
       "      <th>2</th>\n",
       "      <td>2</td>\n",
       "      <td>US</td>\n",
       "      <td>Mac Watson honors the memory of a wine once ma...</td>\n",
       "      <td>Special Selected Late Harvest</td>\n",
       "      <td>96</td>\n",
       "      <td>90.0</td>\n",
       "      <td>California</td>\n",
       "      <td>Knights Valley</td>\n",
       "      <td>Sonoma</td>\n",
       "      <td>Sauvignon Blanc</td>\n",
       "      <td>Macauley</td>\n",
       "    </tr>\n",
       "    <tr>\n",
       "      <th>3</th>\n",
       "      <td>3</td>\n",
       "      <td>US</td>\n",
       "      <td>This spent 20 months in 30% new French oak, an...</td>\n",
       "      <td>Reserve</td>\n",
       "      <td>96</td>\n",
       "      <td>65.0</td>\n",
       "      <td>Oregon</td>\n",
       "      <td>Willamette Valley</td>\n",
       "      <td>Willamette Valley</td>\n",
       "      <td>Pinot Noir</td>\n",
       "      <td>Ponzi</td>\n",
       "    </tr>\n",
       "    <tr>\n",
       "      <th>4</th>\n",
       "      <td>4</td>\n",
       "      <td>France</td>\n",
       "      <td>This is the top wine from La Bégude, named aft...</td>\n",
       "      <td>La Brûlade</td>\n",
       "      <td>95</td>\n",
       "      <td>66.0</td>\n",
       "      <td>Provence</td>\n",
       "      <td>Bandol</td>\n",
       "      <td>NaN</td>\n",
       "      <td>Provence red blend</td>\n",
       "      <td>Domaine de la Bégude</td>\n",
       "    </tr>\n",
       "  </tbody>\n",
       "</table>\n",
       "</div>"
      ],
      "text/plain": [
       "   Unnamed: 0 country                                        description  \\\n",
       "0           0      US  This tremendous 100% varietal wine hails from ...   \n",
       "1           1   Spain  Ripe aromas of fig, blackberry and cassis are ...   \n",
       "2           2      US  Mac Watson honors the memory of a wine once ma...   \n",
       "3           3      US  This spent 20 months in 30% new French oak, an...   \n",
       "4           4  France  This is the top wine from La Bégude, named aft...   \n",
       "\n",
       "                            designation  points  price        province  \\\n",
       "0                     Martha's Vineyard      96  235.0      California   \n",
       "1  Carodorum Selección Especial Reserva      96  110.0  Northern Spain   \n",
       "2         Special Selected Late Harvest      96   90.0      California   \n",
       "3                               Reserve      96   65.0          Oregon   \n",
       "4                            La Brûlade      95   66.0        Provence   \n",
       "\n",
       "            region_1           region_2             variety  \\\n",
       "0        Napa Valley               Napa  Cabernet Sauvignon   \n",
       "1               Toro                NaN       Tinta de Toro   \n",
       "2     Knights Valley             Sonoma     Sauvignon Blanc   \n",
       "3  Willamette Valley  Willamette Valley          Pinot Noir   \n",
       "4             Bandol                NaN  Provence red blend   \n",
       "\n",
       "                    winery  \n",
       "0                    Heitz  \n",
       "1  Bodega Carmen Rodríguez  \n",
       "2                 Macauley  \n",
       "3                    Ponzi  \n",
       "4     Domaine de la Bégude  "
      ]
     },
     "execution_count": 8,
     "metadata": {},
     "output_type": "execute_result"
    }
   ],
   "source": [
    "import pandas as pd\n",
    "reviews = pd.read_csv('../input/wine-reviews/winemag-data_first150k.csv')\n",
    "\n",
    "# Check your answer\n",
    "reviews.head()"
   ]
  },
  {
   "cell_type": "code",
   "execution_count": 9,
   "id": "c8a961b0",
   "metadata": {
    "execution": {
     "iopub.execute_input": "2023-03-29T08:50:22.172599Z",
     "iopub.status.busy": "2023-03-29T08:50:22.172089Z",
     "iopub.status.idle": "2023-03-29T08:50:22.177874Z",
     "shell.execute_reply": "2023-03-29T08:50:22.176318Z"
    },
    "papermill": {
     "duration": 0.017802,
     "end_time": "2023-03-29T08:50:22.180950",
     "exception": false,
     "start_time": "2023-03-29T08:50:22.163148",
     "status": "completed"
    },
    "tags": []
   },
   "outputs": [],
   "source": [
    "#q4.hint()\n",
    "#q4.solution()"
   ]
  },
  {
   "cell_type": "markdown",
   "id": "b65bf5cf",
   "metadata": {
    "papermill": {
     "duration": 0.005823,
     "end_time": "2023-03-29T08:50:22.193509",
     "exception": false,
     "start_time": "2023-03-29T08:50:22.187686",
     "status": "completed"
    },
    "tags": []
   },
   "source": [
    "## 5.\n",
    "\n",
    "Run the cell below to create and display a DataFrame called `animals`:"
   ]
  },
  {
   "cell_type": "code",
   "execution_count": 10,
   "id": "860cb8c2",
   "metadata": {
    "execution": {
     "iopub.execute_input": "2023-03-29T08:50:22.219490Z",
     "iopub.status.busy": "2023-03-29T08:50:22.216882Z",
     "iopub.status.idle": "2023-03-29T08:50:22.250250Z",
     "shell.execute_reply": "2023-03-29T08:50:22.244427Z"
    },
    "papermill": {
     "duration": 0.06114,
     "end_time": "2023-03-29T08:50:22.261066",
     "exception": false,
     "start_time": "2023-03-29T08:50:22.199926",
     "status": "completed"
    },
    "tags": []
   },
   "outputs": [
    {
     "data": {
      "text/html": [
       "<div>\n",
       "<style scoped>\n",
       "    .dataframe tbody tr th:only-of-type {\n",
       "        vertical-align: middle;\n",
       "    }\n",
       "\n",
       "    .dataframe tbody tr th {\n",
       "        vertical-align: top;\n",
       "    }\n",
       "\n",
       "    .dataframe thead th {\n",
       "        text-align: right;\n",
       "    }\n",
       "</style>\n",
       "<table border=\"1\" class=\"dataframe\">\n",
       "  <thead>\n",
       "    <tr style=\"text-align: right;\">\n",
       "      <th></th>\n",
       "      <th>Cows</th>\n",
       "      <th>Goats</th>\n",
       "    </tr>\n",
       "  </thead>\n",
       "  <tbody>\n",
       "    <tr>\n",
       "      <th>Year 1</th>\n",
       "      <td>12</td>\n",
       "      <td>22</td>\n",
       "    </tr>\n",
       "    <tr>\n",
       "      <th>Year 2</th>\n",
       "      <td>20</td>\n",
       "      <td>19</td>\n",
       "    </tr>\n",
       "  </tbody>\n",
       "</table>\n",
       "</div>"
      ],
      "text/plain": [
       "        Cows  Goats\n",
       "Year 1    12     22\n",
       "Year 2    20     19"
      ]
     },
     "execution_count": 10,
     "metadata": {},
     "output_type": "execute_result"
    }
   ],
   "source": [
    "animals = pd.DataFrame({'Cows': [12, 20], 'Goats': [22, 19]}, index=['Year 1', 'Year 2'])\n",
    "animals"
   ]
  },
  {
   "cell_type": "markdown",
   "id": "cb10a005",
   "metadata": {
    "papermill": {
     "duration": 0.005984,
     "end_time": "2023-03-29T08:50:22.276242",
     "exception": false,
     "start_time": "2023-03-29T08:50:22.270258",
     "status": "completed"
    },
    "tags": []
   },
   "source": [
    "In the cell below, write code to save this DataFrame to disk as a csv file with the name `cows_and_goats.csv`."
   ]
  },
  {
   "cell_type": "code",
   "execution_count": 11,
   "id": "8c6bc836",
   "metadata": {
    "execution": {
     "iopub.execute_input": "2023-03-29T08:50:22.291254Z",
     "iopub.status.busy": "2023-03-29T08:50:22.290776Z",
     "iopub.status.idle": "2023-03-29T08:50:22.308166Z",
     "shell.execute_reply": "2023-03-29T08:50:22.306387Z"
    },
    "papermill": {
     "duration": 0.028583,
     "end_time": "2023-03-29T08:50:22.311082",
     "exception": false,
     "start_time": "2023-03-29T08:50:22.282499",
     "status": "completed"
    },
    "tags": []
   },
   "outputs": [
    {
     "name": "stdout",
     "output_type": "stream",
     "text": [
      "        Cows  Goats\n",
      "Year 1    12     22\n",
      "Year 2    20     19\n"
     ]
    }
   ],
   "source": [
    "# Your code goes here\n",
    "import pandas as pd\n",
    "animals = pd.DataFrame({'Cows': [12, 20], 'Goats': [22, 19]}, index=['Year 1', 'Year 2'])\n",
    "animals.to_csv(r'cows_and_goats.csv')\n",
    "# Check your answer\n",
    "print(animals)"
   ]
  },
  {
   "cell_type": "code",
   "execution_count": 12,
   "id": "0d26b181",
   "metadata": {
    "execution": {
     "iopub.execute_input": "2023-03-29T08:50:22.326864Z",
     "iopub.status.busy": "2023-03-29T08:50:22.325696Z",
     "iopub.status.idle": "2023-03-29T08:50:22.331285Z",
     "shell.execute_reply": "2023-03-29T08:50:22.330230Z"
    },
    "papermill": {
     "duration": 0.016754,
     "end_time": "2023-03-29T08:50:22.334591",
     "exception": false,
     "start_time": "2023-03-29T08:50:22.317837",
     "status": "completed"
    },
    "tags": []
   },
   "outputs": [],
   "source": [
    "#q5.hint()\n",
    "#q5.solution()"
   ]
  },
  {
   "cell_type": "markdown",
   "id": "730b8789",
   "metadata": {
    "papermill": {
     "duration": 0.006124,
     "end_time": "2023-03-29T08:50:22.347819",
     "exception": false,
     "start_time": "2023-03-29T08:50:22.341695",
     "status": "completed"
    },
    "tags": []
   },
   "source": [
    "# Keep going\n",
    "\n",
    "Move on to learn about **[indexing, selecting and assigning](https://www.kaggle.com/residentmario/indexing-selecting-assigning)**."
   ]
  },
  {
   "cell_type": "markdown",
   "id": "2be09126",
   "metadata": {
    "papermill": {
     "duration": 0.006581,
     "end_time": "2023-03-29T08:50:22.360903",
     "exception": false,
     "start_time": "2023-03-29T08:50:22.354322",
     "status": "completed"
    },
    "tags": []
   },
   "source": [
    "---\n",
    "\n",
    "\n",
    "\n",
    "\n",
    "*Have questions or comments? Visit the [course discussion forum](https://www.kaggle.com/learn/pandas/discussion) to chat with other learners.*"
   ]
  }
 ],
 "metadata": {
  "kernelspec": {
   "display_name": "Python 3",
   "language": "python",
   "name": "python3"
  },
  "language_info": {
   "codemirror_mode": {
    "name": "ipython",
    "version": 3
   },
   "file_extension": ".py",
   "mimetype": "text/x-python",
   "name": "python",
   "nbconvert_exporter": "python",
   "pygments_lexer": "ipython3",
   "version": "3.7.12"
  },
  "papermill": {
   "default_parameters": {},
   "duration": 16.55115,
   "end_time": "2023-03-29T08:50:23.394583",
   "environment_variables": {},
   "exception": null,
   "input_path": "__notebook__.ipynb",
   "output_path": "__notebook__.ipynb",
   "parameters": {},
   "start_time": "2023-03-29T08:50:06.843433",
   "version": "2.4.0"
  }
 },
 "nbformat": 4,
 "nbformat_minor": 5
}
